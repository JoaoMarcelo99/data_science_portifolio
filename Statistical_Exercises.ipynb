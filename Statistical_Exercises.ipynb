{
  "nbformat": 4,
  "nbformat_minor": 0,
  "metadata": {
    "colab": {
      "name": "Statistical_Exercises.ipynb",
      "provenance": [],
      "collapsed_sections": [],
      "include_colab_link": true
    },
    "kernelspec": {
      "name": "python3",
      "display_name": "Python 3"
    },
    "language_info": {
      "name": "python"
    }
  },
  "cells": [
    {
      "cell_type": "markdown",
      "metadata": {
        "id": "view-in-github",
        "colab_type": "text"
      },
      "source": [
        "<a href=\"https://colab.research.google.com/github/JoaoMarcelo99/data_science_portifolio/blob/master/Statistical_Exercises.ipynb\" target=\"_parent\"><img src=\"https://colab.research.google.com/assets/colab-badge.svg\" alt=\"Open In Colab\"/></a>"
      ]
    },
    {
      "cell_type": "markdown",
      "metadata": {
        "id": "yw2kc1YAUNL1"
      },
      "source": [
        "# 1) Probability of the Hunter or the Moose wins:\n",
        "For this problem, I used a simple simulation of a match and ran multiple times to count how many wins the Hunter and the Moose had.\n",
        "\n",
        "After that, I calculated the wins percentage of each one."
      ]
    },
    {
      "cell_type": "code",
      "metadata": {
        "id": "gkshI-jUjSRA"
      },
      "source": [
        "from random import randint\n",
        "\n",
        "\n",
        "class Player:\n",
        "  def __init__(self,space):\n",
        "    self.space = space\n",
        "    self.wins = 0\n",
        "\n",
        "  def move_foward(self, val):\n",
        "    self.space = self.space + val\n",
        "  \n",
        "  def win(self):\n",
        "    self.wins += 1\n",
        "\n",
        "def check_victory(hunter, moose):\n",
        "  if hunter.space >= moose.space:\n",
        "    hunter.win()\n",
        "    return True\n",
        "    \n",
        "  elif moose.space >= 12:\n",
        "    moose.win()\n",
        "    return True\n",
        "  else:\n",
        "    return False\n",
        "\n",
        "\n",
        "def throw_dice(hunter, moose):\n",
        "  val = randint(1,6)\n",
        "  if val < 5:\n",
        "    moose.move_foward(val)\n",
        "  else:\n",
        "    hunter.move_foward(val)\n",
        "\n",
        "\n",
        "def calculate_results(hunter, moose):\n",
        "  total_played_games = hunter.wins + moose.wins\n",
        "  print(\"All played games: \",total_played_games)\n",
        "\n",
        "  hunter_percentage_wins = (100*hunter.wins)/total_played_games\n",
        "  moose_percentage_wins = (100*moose.wins)/total_played_games\n",
        "\n",
        "  print(\"Hunter wins: \", hunter_percentage_wins, \"%\")\n",
        "  print(\"Moose wins: \", moose_percentage_wins, \"%\")\n",
        "\n",
        "  print(\"Someone wins: \", hunter_percentage_wins + moose_percentage_wins, \"%\")\n",
        "\n",
        "\n",
        "def run_games(limit, hunter, moose):\n",
        "\n",
        "  hunter_initial_space = hunter.space\n",
        "  moose_initial_space = moose.space\n",
        "  \n",
        "  for i in range(1, limit): \n",
        "    hunter.space = hunter_initial_space\n",
        "    moose.space = moose_initial_space\n",
        "    while check_victory(hunter, moose) == False:\n",
        "      throw_dice(hunter, moose)\n",
        "      check_victory(hunter, moose)\n",
        "  \n",
        "  hunter.space = hunter_initial_space\n",
        "  moose.space = moose_initial_space\n",
        "  \n",
        "  calculate_results(hunter, moose)\n",
        "  \n",
        "  hunter.wins = 0\n",
        "  moose.wins = 0"
      ],
      "execution_count": null,
      "outputs": []
    },
    {
      "cell_type": "code",
      "metadata": {
        "colab": {
          "base_uri": "https://localhost:8080/"
        },
        "id": "d2H_FdUNSbW5",
        "outputId": "f0158002-485c-4488-e757-2b4d4bdca9d5"
      },
      "source": [
        "hunter = Player(1)\n",
        "moose = Player(7)\n",
        "\n",
        "run_games(1000000000, hunter, moose)"
      ],
      "execution_count": null,
      "outputs": [
        {
          "output_type": "stream",
          "text": [
            "All played games:  1999999998\n",
            "Hunter wins:  38.71853853871854 %\n",
            "Moose wins:  61.28146146128146 %\n",
            "Someone wins:  100.0 %\n"
          ],
          "name": "stdout"
        }
      ]
    },
    {
      "cell_type": "markdown",
      "metadata": {
        "id": "mCuPBB1FWsk8"
      },
      "source": [
        "# 2) Which Element Cannot be in the Set?\n",
        "\n",
        "For this problem we need to stipulate what are the greater and the lower values of the set. We know that the average of the set is 100, and the greater element (upper limit) has to be five greater than three times the smallest (lower limit).\n",
        "\n",
        "\n",
        "\n",
        "We can put it in this way:\n",
        "\n",
        "$x \\leq 100 \\leq X $;\n",
        "\n",
        "$x = $ smallest element and $X = $ greater element\n",
        "\n",
        "We know that $X = 5 + 3x$ by the definition of the problem. So we have:\n",
        "\n",
        "$ x \\leq 100 \\leq 5 + 3x$\n",
        "\n",
        "We can supose that the smallest value we have had to be less than 100, as 100 is the average, and we can't have the smallest element above the set average.\n",
        "\n",
        "So, if 100 is the smallest element:\n",
        "\n",
        "$100 \\leq 5 + 3x$\n",
        "\n",
        "And so\n",
        "\n",
        "$100 \\leq 5 + 3*100$\n",
        "\n",
        "$100 \\leq 305$\n",
        "\n",
        "Which is true, but doesn't help us at all, since all options are under this value.\n",
        "\n",
        "Let's do the opposite now. Let's supose that 100 is the greater value we can get.\n",
        "\n",
        "$100 \\leq 5 + 3x$\n",
        "\n",
        "$100 - 5 \\leq 3x$\n",
        "\n",
        "$95/3 \\leq x$\n",
        "\n",
        "$31.6667 \\leq x$\n",
        "\n",
        "That is, the minimum value we can have, since the average is 100, is 31.667.\n",
        "\n",
        "If we look at the options, we can see that the only alternative that is off the limits $(31.6667, 305)$ is the option a) 30.\n"
      ]
    },
    {
      "cell_type": "markdown",
      "metadata": {
        "id": "1djPriSJfS2S"
      },
      "source": [
        "# 3)Computing Statistics Proprieties of a Sample S:\n",
        "\n",
        "To calculate the Mean of the sample:\n",
        "$S = [1, 2, 3, 4, 1, 5, 2, 2, 3]$\n",
        "\n",
        "We need to sum all elements and divide by the number of elements we have in this sample:\n",
        "\n",
        "$\\bar x =  \\frac {\\sum_{i=1}^{n}x_i}{n}$;\n",
        "\n",
        "$n = $ size of the sample;\n",
        "\n",
        "Making $ \\bar x = \\frac {1 + 2 +3 +4+1+5+2+2+3}{9}$ we conclude that $\\bar x = 2.5555556$\n",
        "\n",
        "To computate the Median we have to put the sample in sequence and pick the term in the middle. \n",
        "\n",
        "$S_M = [1,1,2,2,2,3,3,4,5]$\n",
        "\n",
        "$Med = 2$ \n",
        "\n",
        "To calculate the Mode we need to get the value that most appears. In this case, as the sample we have is with only 9 elements, we can see that our Mode is 2.\n",
        "\n",
        "To calculate the Standard Deviation we can use the following formula:\n",
        "\n",
        "$s = \\sqrt \\frac {\\sum_{i=1}^{n}(x_i - \\bar x)^2}{n-1}$\n",
        "\n",
        "$s = \\frac {(1-2.5555556)^2 + (2-2.5555556)^2 +(3-2.5555556)^2 + (4-2.5555556)^2+ (1-2.5555556)^2 + (5-2.5555556)^2 + (2-2.5555556)^2 + (2-2.5555556)^2+ (3-2.5555556)^2}{8} $\n",
        "\n",
        "And so\n",
        "\n",
        "$s = 1.3333333$\n",
        "\n",
        "Since the Variance is the Standard Deviation to the power of 2, we have that\n",
        "\n",
        "$Var = s^2 = 1.777778$\n",
        "\n",
        "\n",
        "And finally, the Standard Error is \n",
        "\n",
        "$SE = \\frac {s}{\\sqrt n}$\n",
        "\n",
        "$SE = \\frac {1.3333333}{\\sqrt 9}$\n",
        "\n",
        "$SE = 0.444443$\n",
        "\n",
        "We can use Python functions to confirm our results."
      ]
    },
    {
      "cell_type": "code",
      "metadata": {
        "id": "vD4FUZxD_0Jh"
      },
      "source": [
        "S = [1, 2, 3, 4, 1, 5, 2, 2, 3]"
      ],
      "execution_count": null,
      "outputs": []
    },
    {
      "cell_type": "code",
      "metadata": {
        "colab": {
          "base_uri": "https://localhost:8080/"
        },
        "id": "UxBIvePn_1WL",
        "outputId": "1fef5195-497c-4a3d-ea1c-922deac18bae"
      },
      "source": [
        "import statistics as sts\n",
        "import math \n",
        "\n",
        "print(\"Mean: \",sts.mean(S))\n",
        "print(\"Median: \",sts.median(S))\n",
        "print(\"Mode: \", sts.mode(S))\n",
        "print(\"Standard Deviation: \", sts.stdev(S))\n",
        "print(\"Variance: \", sts.variance(S))\n",
        "print(\"Standard error: \", sts.stdev(S)/math.sqrt(len(S)))\n"
      ],
      "execution_count": null,
      "outputs": [
        {
          "output_type": "stream",
          "text": [
            "Mean:  2.5555555555555554\n",
            "Median:  2\n",
            "Mode:  2\n",
            "Standard Deviation:  1.3333333333333333\n",
            "Variance:  1.7777777777777777\n",
            "Standard error:  0.4444444444444444\n"
          ],
          "name": "stdout"
        }
      ]
    },
    {
      "cell_type": "markdown",
      "metadata": {
        "id": "PSgHKjV30vzQ"
      },
      "source": [
        "#4) 3 Stores and the Marketing Campaign:\n",
        "\n",
        "In this problem we have to answer two main questions. What is the probability that some random costumer didn't respond to the campaign and the probability that a responder went to the store C.\n",
        "\n",
        "We know the response rate from each store. To get the \"non-response\" rate, we subtract 100% from that rate.\n",
        "\n",
        "So we get $A = 50$%, $B = 40$% and $C = 10$%.\n",
        "\n",
        "To know the probability of a random costumer didn't respond to the campaing, we need to compute the probability of the store that he or she goes and the \"non-response\" rate in that store.\n",
        "\n",
        "So we get:\n",
        "\n",
        "$50\\% * 50\\% + 30\\% * 40\\% + 20\\% * 10\\% = 49\\%$\n",
        "\n",
        "So there is a 49% chance of a random costumer didn't respond to the campaign.\n",
        "\n",
        "To know the probability to a responder went to C, we need to computate the percentage that goes to C and see the response rate in that store.\n",
        "\n",
        "As 50% of buyers go to A, and 30% go to B, the response rate in C has to be 20%. As the response rate in C is 90% we can calculate:\n",
        "\n",
        "$20\\% * 90\\% = 18\\% $\n",
        "\n",
        "So, the probability of a responder went to C is 18%"
      ]
    },
    {
      "cell_type": "markdown",
      "metadata": {
        "id": "BL5mcXxJ2PPL"
      },
      "source": [
        "#5) Box with dices:\n",
        "To find the conditional probability that the dice is of type \"B\", given that it gives a 6, we need to use Bayes Theorem. \n",
        "\n",
        "The Bayes Theorem says:\n",
        "\n",
        "$P(A|B) = \\frac{P(B|A)P(A)}{P(B)}$\n",
        "\n",
        "Applying the theorem to the scope of our problem we have:\n",
        "\n",
        "$P(Dice_B|6) = \\frac{P(6|Dice_B)P(Dice_B)}{P(6)}$\n",
        "\n",
        "Where $P(Dice_B)$ is the probability of dice B be taken from the box and $P(6)$ the probability of get a 6.\n",
        "\n",
        "To get the full probability to get a 6, we need to consider all the cases for all types of dice that we have. For our case it will be:\n",
        "\n",
        "$P(6) = P(6|Dice_A)P(Dice_A) + P(6|Dice_B)P(Dice_B) + P(6|Dice_C)P(Dice_C)$\n",
        "\n",
        "So our conditional problem is\n",
        "\n",
        "$P(Dice_B|6) = \\frac{P(6|Dice_B)P(Dice_B)}{P(6|Dice_A)P(Dice_A) + P(6|Dice_B)P(Dice_B) + P(6|Dice_C)P(Dice_C)}$\n",
        "\n",
        "Replacing with the values we have:\n",
        "\n",
        "$P(Dice_B|6) = \\frac{(0.85 * \\frac{1}{4})}{(\\frac{1}{6}*\\frac{1}{2}) + (0.85*\\frac{1}{4}) + (0.05*\\frac{1}{4})}$\n",
        "\n",
        "\n",
        "Which gives us $P(Dice_B|6) = 68.92$%"
      ]
    }
  ]
}